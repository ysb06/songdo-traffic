{
 "cells": [
  {
   "cell_type": "markdown",
   "metadata": {},
   "source": [
    "# Subset Generation"
   ]
  },
  {
   "cell_type": "code",
   "execution_count": 12,
   "metadata": {},
   "outputs": [],
   "source": [
    "import numpy as np\n",
    "import pandas as pd\n",
    "import os\n",
    "import geopandas as gpd"
   ]
  },
  {
   "cell_type": "markdown",
   "metadata": {},
   "source": [
    "## Interpolated Subset (Subset-296)\n",
    "\n",
    "songdo_traffic_core.dataset.nodelink 모듈을 통해 생성한 데이터를 기반으로 Interpolation 및 subset 생성"
   ]
  },
  {
   "cell_type": "code",
   "execution_count": null,
   "metadata": {},
   "outputs": [],
   "source": [
    "from songdo_traffic_core.dataset.interpolator import (\n",
    "    IterativeRandomForestInterpolator,\n",
    "    LinearInterpolator,\n",
    "    SplineInterpolator,\n",
    ")\n",
    "from songdo_traffic_core.dataset.metr_imc.generator import MetrImcSubsetGenerator"
   ]
  },
  {
   "cell_type": "code",
   "execution_count": null,
   "metadata": {},
   "outputs": [],
   "source": [
    "def extend_nans_around_zeros(series: pd.Series) -> pd.Series:\n",
    "    series = series.copy()\n",
    "    nan_indices = series[series.isna()].index\n",
    "\n",
    "    for idx in nan_indices:\n",
    "        idx_pos = series.index.get_loc(idx)\n",
    "\n",
    "        i = idx_pos - 1\n",
    "        while i >= 0 and series.iat[i] == 0:\n",
    "            series.iat[i] = np.nan\n",
    "            i -= 1\n",
    "\n",
    "        i = idx_pos + 1\n",
    "        while i < len(series) and series.iat[i] == 0:\n",
    "            series.iat[i] = np.nan\n",
    "            i += 1\n",
    "\n",
    "    return series"
   ]
  },
  {
   "cell_type": "code",
   "execution_count": null,
   "metadata": {},
   "outputs": [],
   "source": [
    "df_imc: pd.DataFrame = pd.read_hdf(\"../datasets/metr-imc/metr-imc.h5\")\n",
    "df_imc"
   ]
  },
  {
   "cell_type": "markdown",
   "metadata": {},
   "source": [
    "현재는 결측치가 너무 많은 데이터는 제외하고 실험"
   ]
  },
  {
   "cell_type": "code",
   "execution_count": null,
   "metadata": {},
   "outputs": [],
   "source": [
    "no_missing_columns = df_imc.columns[df_imc.isnull().sum() == 0].to_list()\n",
    "less_500_missing_columns = df_imc.columns[df_imc.isnull().sum() < 500].to_list()    # 현재 선택된 대상 그룹\n",
    "less_750_missing_columns = df_imc.columns[df_imc.isnull().sum() < 750].to_list()"
   ]
  },
  {
   "cell_type": "code",
   "execution_count": null,
   "metadata": {},
   "outputs": [],
   "source": [
    "generator = MetrImcSubsetGenerator(\n",
    "    nodelink_dir=\"../datasets/metr-imc/nodelink\",\n",
    "    imcrts_dir=\"../datasets/metr-imc/imcrts\",\n",
    "    metr_imc_dir=\"../datasets/metr-imc/\",\n",
    ")"
   ]
  },
  {
   "cell_type": "markdown",
   "metadata": {},
   "source": [
    "결측치 주변의 값이 대부분 0으로 되어 있다. 결측치가 발생하고 측정이 재개되었을 때, 시간이 걸리고 0으로 측정된다는 가설하에 결측치 주변의 0은 모두 결측치로 처리하였다."
   ]
  },
  {
   "cell_type": "code",
   "execution_count": null,
   "metadata": {},
   "outputs": [],
   "source": [
    "df = generator.metr_imc_df\n",
    "df = df.sort_index()\n",
    "generator.metr_imc_df = df.apply(extend_nans_around_zeros)"
   ]
  },
  {
   "cell_type": "markdown",
   "metadata": {},
   "source": [
    "Interpolation 방법은 여러가지가 있을 수 있으며 현재는 아래와 같은 Interpolation으로 정의"
   ]
  },
  {
   "cell_type": "code",
   "execution_count": null,
   "metadata": {},
   "outputs": [],
   "source": [
    "interpolator = SplineInterpolator()"
   ]
  },
  {
   "cell_type": "markdown",
   "metadata": {},
   "source": [
    "### Interpolation 완료한 Subset 생성"
   ]
  },
  {
   "cell_type": "code",
   "execution_count": 9,
   "metadata": {},
   "outputs": [],
   "source": [
    "SUBSET_TARGET_DIR = \"../datasets/metr-imc/subsets/metr-imc-296-int\""
   ]
  },
  {
   "cell_type": "code",
   "execution_count": null,
   "metadata": {},
   "outputs": [],
   "source": [
    "generator.generate_subset(less_500_missing_columns, SUBSET_TARGET_DIR, interpolator)"
   ]
  },
  {
   "cell_type": "code",
   "execution_count": 5,
   "metadata": {},
   "outputs": [],
   "source": [
    "pd.read_hdf(\"../datasets/metr-imc/subsets/metr-imc-296-int/metr-imc.h5\").to_excel(\n",
    "    \"../datasets/metr-imc/subsets/metr-imc-296-int/metr-imc-296-int.xlsx\"\n",
    ")"
   ]
  },
  {
   "cell_type": "markdown",
   "metadata": {},
   "source": [
    "생성된 데이터를 Shapefile로 시각화"
   ]
  },
  {
   "cell_type": "code",
   "execution_count": 10,
   "metadata": {},
   "outputs": [
    {
     "name": "stderr",
     "output_type": "stream",
     "text": [
      "100%|██████████| 48195/48195 [00:00<00:00, 56929.86it/s]\n",
      "2024/07/22 11:11:59 pyogrio._io [INFO] Created 296 records\n",
      "2024/07/22 11:11:59 pyogrio._io [INFO] Created 47,899 records\n"
     ]
    }
   ],
   "source": [
    "from songdo_traffic_core.dataset.metr_imc.converter.graph_sensor_locations import SensorNetworkView\n",
    "\n",
    "SUBSET_TARGET_DISTANCE_FILE_PATH = os.path.join(SUBSET_TARGET_DIR, \"distances_imc_2023.csv\")\n",
    "SUBSET_TARGET_SENSOR_FILE_PATH = os.path.join(SUBSET_TARGET_DIR, \"graph_sensor_locations.csv\")\n",
    "SUBSET_TARGET_NETWORK_DIR = os.path.join(SUBSET_TARGET_DIR, \"miscellaneous\")\n",
    "\n",
    "SensorNetworkView(SUBSET_TARGET_DISTANCE_FILE_PATH, SUBSET_TARGET_SENSOR_FILE_PATH).to_file(SUBSET_TARGET_NETWORK_DIR)\n",
    "\n"
   ]
  },
  {
   "cell_type": "markdown",
   "metadata": {},
   "source": [
    "## Small Group (Subset-37)\n",
    "\n",
    "앞에서 선택한 결측치 500개 미만의 데이터 중 임의로 Clustering을 한 37개의 그룹을 추가로 추출하여 작은 그룹을 만들었다. 이 그룹이 적절한 그래프 구조와 적은 결측치를 가지고 있기에 테스트 용도로 적합할 것으로 판단하였다.\n",
    "\n",
    "아래는 QGIS를 통해서 추출한 Subset 목록의 Shapefile 이다."
   ]
  },
  {
   "cell_type": "code",
   "execution_count": 15,
   "metadata": {},
   "outputs": [
    {
     "data": {
      "text/html": [
       "<div>\n",
       "<style scoped>\n",
       "    .dataframe tbody tr th:only-of-type {\n",
       "        vertical-align: middle;\n",
       "    }\n",
       "\n",
       "    .dataframe tbody tr th {\n",
       "        vertical-align: top;\n",
       "    }\n",
       "\n",
       "    .dataframe thead th {\n",
       "        text-align: right;\n",
       "    }\n",
       "</style>\n",
       "<table border=\"1\" class=\"dataframe\">\n",
       "  <thead>\n",
       "    <tr style=\"text-align: right;\">\n",
       "      <th></th>\n",
       "      <th>index</th>\n",
       "      <th>NODE_ID</th>\n",
       "      <th>geometry</th>\n",
       "    </tr>\n",
       "  </thead>\n",
       "  <tbody>\n",
       "    <tr>\n",
       "      <th>0</th>\n",
       "      <td>71</td>\n",
       "      <td>1650026001</td>\n",
       "      <td>POINT (126.7067 37.39807)</td>\n",
       "    </tr>\n",
       "    <tr>\n",
       "      <th>1</th>\n",
       "      <td>1191</td>\n",
       "      <td>1640014100</td>\n",
       "      <td>POINT (126.68411 37.40726)</td>\n",
       "    </tr>\n",
       "    <tr>\n",
       "      <th>2</th>\n",
       "      <td>1363</td>\n",
       "      <td>1640014900</td>\n",
       "      <td>POINT (126.66937 37.41002)</td>\n",
       "    </tr>\n",
       "    <tr>\n",
       "      <th>3</th>\n",
       "      <td>2615</td>\n",
       "      <td>1640049000</td>\n",
       "      <td>POINT (126.69901 37.42607)</td>\n",
       "    </tr>\n",
       "    <tr>\n",
       "      <th>4</th>\n",
       "      <td>3035</td>\n",
       "      <td>1640012000</td>\n",
       "      <td>POINT (126.67751 37.40461)</td>\n",
       "    </tr>\n",
       "  </tbody>\n",
       "</table>\n",
       "</div>"
      ],
      "text/plain": [
       "   index     NODE_ID                    geometry\n",
       "0     71  1650026001   POINT (126.7067 37.39807)\n",
       "1   1191  1640014100  POINT (126.68411 37.40726)\n",
       "2   1363  1640014900  POINT (126.66937 37.41002)\n",
       "3   2615  1640049000  POINT (126.69901 37.42607)\n",
       "4   3035  1640012000  POINT (126.67751 37.40461)"
      ]
     },
     "execution_count": 15,
     "metadata": {},
     "output_type": "execute_result"
    }
   ],
   "source": [
    "subset_37_targets = gpd.read_file(\"../datasets/metr-imc/subsets/metr-imc-37/selected_roads.shp\")\n",
    "subset_37_targets.head()"
   ]
  }
 ],
 "metadata": {
  "kernelspec": {
   "display_name": ".venv",
   "language": "python",
   "name": "python3"
  },
  "language_info": {
   "codemirror_mode": {
    "name": "ipython",
    "version": 3
   },
   "file_extension": ".py",
   "mimetype": "text/x-python",
   "name": "python",
   "nbconvert_exporter": "python",
   "pygments_lexer": "ipython3",
   "version": "3.11.9"
  }
 },
 "nbformat": 4,
 "nbformat_minor": 2
}
