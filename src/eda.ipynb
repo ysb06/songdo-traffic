{
 "cells": [
  {
   "cell_type": "markdown",
   "metadata": {},
   "source": [
    "# Exploratory Data Analysis for METR-LA, PEMS-BAY and Incheon"
   ]
  },
  {
   "cell_type": "markdown",
   "metadata": {},
   "source": [
    "## Loading Data"
   ]
  },
  {
   "cell_type": "code",
   "execution_count": 1,
   "metadata": {},
   "outputs": [],
   "source": [
    "import matplotlib.pyplot as plt\n",
    "import numpy as np\n",
    "import pandas as pd\n",
    "import seaborn as sns\n",
    "import geopandas as gpd"
   ]
  },
  {
   "cell_type": "code",
   "execution_count": 2,
   "metadata": {},
   "outputs": [
    {
     "data": {
      "text/html": [
       "<div>\n",
       "<style scoped>\n",
       "    .dataframe tbody tr th:only-of-type {\n",
       "        vertical-align: middle;\n",
       "    }\n",
       "\n",
       "    .dataframe tbody tr th {\n",
       "        vertical-align: top;\n",
       "    }\n",
       "\n",
       "    .dataframe thead th {\n",
       "        text-align: right;\n",
       "    }\n",
       "</style>\n",
       "<table border=\"1\" class=\"dataframe\">\n",
       "  <thead>\n",
       "    <tr style=\"text-align: right;\">\n",
       "      <th></th>\n",
       "      <th>index</th>\n",
       "      <th>773869</th>\n",
       "      <th>767541</th>\n",
       "      <th>767542</th>\n",
       "      <th>717447</th>\n",
       "      <th>717446</th>\n",
       "      <th>717445</th>\n",
       "      <th>773062</th>\n",
       "      <th>767620</th>\n",
       "    </tr>\n",
       "  </thead>\n",
       "  <tbody>\n",
       "    <tr>\n",
       "      <th>0</th>\n",
       "      <td>2012-03-01 00:00:00</td>\n",
       "      <td>64.375000</td>\n",
       "      <td>67.625000</td>\n",
       "      <td>67.125000</td>\n",
       "      <td>61.500000</td>\n",
       "      <td>66.875000</td>\n",
       "      <td>68.750000</td>\n",
       "      <td>65.125</td>\n",
       "      <td>67.125</td>\n",
       "    </tr>\n",
       "    <tr>\n",
       "      <th>1</th>\n",
       "      <td>2012-03-01 00:05:00</td>\n",
       "      <td>62.666667</td>\n",
       "      <td>68.555556</td>\n",
       "      <td>65.444444</td>\n",
       "      <td>62.444444</td>\n",
       "      <td>64.444444</td>\n",
       "      <td>68.111111</td>\n",
       "      <td>65.000</td>\n",
       "      <td>65.000</td>\n",
       "    </tr>\n",
       "    <tr>\n",
       "      <th>2</th>\n",
       "      <td>2012-03-01 00:10:00</td>\n",
       "      <td>64.000000</td>\n",
       "      <td>63.750000</td>\n",
       "      <td>60.000000</td>\n",
       "      <td>59.000000</td>\n",
       "      <td>66.500000</td>\n",
       "      <td>66.250000</td>\n",
       "      <td>64.500</td>\n",
       "      <td>64.250</td>\n",
       "    </tr>\n",
       "    <tr>\n",
       "      <th>3</th>\n",
       "      <td>2012-03-01 00:15:00</td>\n",
       "      <td>0.000000</td>\n",
       "      <td>0.000000</td>\n",
       "      <td>0.000000</td>\n",
       "      <td>0.000000</td>\n",
       "      <td>0.000000</td>\n",
       "      <td>0.000000</td>\n",
       "      <td>0.000</td>\n",
       "      <td>0.000</td>\n",
       "    </tr>\n",
       "    <tr>\n",
       "      <th>4</th>\n",
       "      <td>2012-03-01 00:20:00</td>\n",
       "      <td>0.000000</td>\n",
       "      <td>0.000000</td>\n",
       "      <td>0.000000</td>\n",
       "      <td>0.000000</td>\n",
       "      <td>0.000000</td>\n",
       "      <td>0.000000</td>\n",
       "      <td>0.000</td>\n",
       "      <td>0.000</td>\n",
       "    </tr>\n",
       "  </tbody>\n",
       "</table>\n",
       "</div>"
      ],
      "text/plain": [
       "                index     773869     767541     767542     717447     717446  \\\n",
       "0 2012-03-01 00:00:00  64.375000  67.625000  67.125000  61.500000  66.875000   \n",
       "1 2012-03-01 00:05:00  62.666667  68.555556  65.444444  62.444444  64.444444   \n",
       "2 2012-03-01 00:10:00  64.000000  63.750000  60.000000  59.000000  66.500000   \n",
       "3 2012-03-01 00:15:00   0.000000   0.000000   0.000000   0.000000   0.000000   \n",
       "4 2012-03-01 00:20:00   0.000000   0.000000   0.000000   0.000000   0.000000   \n",
       "\n",
       "      717445  773062  767620  \n",
       "0  68.750000  65.125  67.125  \n",
       "1  68.111111  65.000  65.000  \n",
       "2  66.250000  64.500  64.250  \n",
       "3   0.000000   0.000   0.000  \n",
       "4   0.000000   0.000   0.000  "
      ]
     },
     "execution_count": 2,
     "metadata": {},
     "output_type": "execute_result"
    }
   ],
   "source": [
    "df_la = pd.read_hdf(\"../datasets/METRLA/metr-la.h5\")\n",
    "df_la.head().reset_index().iloc[:, :9]"
   ]
  },
  {
   "cell_type": "code",
   "execution_count": 3,
   "metadata": {},
   "outputs": [
    {
     "data": {
      "text/html": [
       "<div>\n",
       "<style scoped>\n",
       "    .dataframe tbody tr th:only-of-type {\n",
       "        vertical-align: middle;\n",
       "    }\n",
       "\n",
       "    .dataframe tbody tr th {\n",
       "        vertical-align: top;\n",
       "    }\n",
       "\n",
       "    .dataframe thead th {\n",
       "        text-align: right;\n",
       "    }\n",
       "</style>\n",
       "<table border=\"1\" class=\"dataframe\">\n",
       "  <thead>\n",
       "    <tr style=\"text-align: right;\">\n",
       "      <th>sensor_id</th>\n",
       "      <th>index</th>\n",
       "      <th>400001</th>\n",
       "      <th>400017</th>\n",
       "      <th>400030</th>\n",
       "      <th>400040</th>\n",
       "      <th>400045</th>\n",
       "      <th>400052</th>\n",
       "      <th>400057</th>\n",
       "      <th>400059</th>\n",
       "    </tr>\n",
       "  </thead>\n",
       "  <tbody>\n",
       "    <tr>\n",
       "      <th>0</th>\n",
       "      <td>2017-01-01 00:00:00</td>\n",
       "      <td>71.4</td>\n",
       "      <td>67.8</td>\n",
       "      <td>70.5</td>\n",
       "      <td>67.4</td>\n",
       "      <td>68.8</td>\n",
       "      <td>66.6</td>\n",
       "      <td>66.8</td>\n",
       "      <td>68.0</td>\n",
       "    </tr>\n",
       "    <tr>\n",
       "      <th>1</th>\n",
       "      <td>2017-01-01 00:05:00</td>\n",
       "      <td>71.6</td>\n",
       "      <td>67.5</td>\n",
       "      <td>70.6</td>\n",
       "      <td>67.5</td>\n",
       "      <td>68.7</td>\n",
       "      <td>66.6</td>\n",
       "      <td>66.8</td>\n",
       "      <td>67.8</td>\n",
       "    </tr>\n",
       "    <tr>\n",
       "      <th>2</th>\n",
       "      <td>2017-01-01 00:10:00</td>\n",
       "      <td>71.6</td>\n",
       "      <td>67.6</td>\n",
       "      <td>70.2</td>\n",
       "      <td>67.4</td>\n",
       "      <td>68.7</td>\n",
       "      <td>66.1</td>\n",
       "      <td>66.8</td>\n",
       "      <td>67.8</td>\n",
       "    </tr>\n",
       "    <tr>\n",
       "      <th>3</th>\n",
       "      <td>2017-01-01 00:15:00</td>\n",
       "      <td>71.1</td>\n",
       "      <td>67.5</td>\n",
       "      <td>70.3</td>\n",
       "      <td>68.0</td>\n",
       "      <td>68.5</td>\n",
       "      <td>66.7</td>\n",
       "      <td>66.6</td>\n",
       "      <td>67.7</td>\n",
       "    </tr>\n",
       "    <tr>\n",
       "      <th>4</th>\n",
       "      <td>2017-01-01 00:20:00</td>\n",
       "      <td>71.7</td>\n",
       "      <td>67.8</td>\n",
       "      <td>70.2</td>\n",
       "      <td>68.1</td>\n",
       "      <td>68.4</td>\n",
       "      <td>66.9</td>\n",
       "      <td>66.1</td>\n",
       "      <td>67.7</td>\n",
       "    </tr>\n",
       "  </tbody>\n",
       "</table>\n",
       "</div>"
      ],
      "text/plain": [
       "sensor_id               index  400001  400017  400030  400040  400045  400052  \\\n",
       "0         2017-01-01 00:00:00    71.4    67.8    70.5    67.4    68.8    66.6   \n",
       "1         2017-01-01 00:05:00    71.6    67.5    70.6    67.5    68.7    66.6   \n",
       "2         2017-01-01 00:10:00    71.6    67.6    70.2    67.4    68.7    66.1   \n",
       "3         2017-01-01 00:15:00    71.1    67.5    70.3    68.0    68.5    66.7   \n",
       "4         2017-01-01 00:20:00    71.7    67.8    70.2    68.1    68.4    66.9   \n",
       "\n",
       "sensor_id  400057  400059  \n",
       "0            66.8    68.0  \n",
       "1            66.8    67.8  \n",
       "2            66.8    67.8  \n",
       "3            66.6    67.7  \n",
       "4            66.1    67.7  "
      ]
     },
     "execution_count": 3,
     "metadata": {},
     "output_type": "execute_result"
    }
   ],
   "source": [
    "df_pems = pd.read_hdf(\"../datasets/PEMSBAY/pems-bay.h5\")\n",
    "df_pems.head().reset_index().iloc[:, :9]"
   ]
  },
  {
   "cell_type": "code",
   "execution_count": 4,
   "metadata": {},
   "outputs": [
    {
     "data": {
      "text/html": [
       "<div>\n",
       "<style scoped>\n",
       "    .dataframe tbody tr th:only-of-type {\n",
       "        vertical-align: middle;\n",
       "    }\n",
       "\n",
       "    .dataframe tbody tr th {\n",
       "        vertical-align: top;\n",
       "    }\n",
       "\n",
       "    .dataframe thead th {\n",
       "        text-align: right;\n",
       "    }\n",
       "</style>\n",
       "<table border=\"1\" class=\"dataframe\">\n",
       "  <thead>\n",
       "    <tr style=\"text-align: right;\">\n",
       "      <th></th>\n",
       "      <th>index</th>\n",
       "      <th>1680254606</th>\n",
       "      <th>1650051800</th>\n",
       "      <th>1670030907</th>\n",
       "      <th>1610002406</th>\n",
       "      <th>1650374201</th>\n",
       "      <th>1650038700</th>\n",
       "      <th>1690052500</th>\n",
       "      <th>1650054600</th>\n",
       "    </tr>\n",
       "  </thead>\n",
       "  <tbody>\n",
       "    <tr>\n",
       "      <th>0</th>\n",
       "      <td>2023-01-01 00:00:00</td>\n",
       "      <td>0.0</td>\n",
       "      <td>NaN</td>\n",
       "      <td>NaN</td>\n",
       "      <td>NaN</td>\n",
       "      <td>NaN</td>\n",
       "      <td>NaN</td>\n",
       "      <td>12.0</td>\n",
       "      <td>NaN</td>\n",
       "    </tr>\n",
       "    <tr>\n",
       "      <th>1</th>\n",
       "      <td>2023-01-01 01:00:00</td>\n",
       "      <td>0.0</td>\n",
       "      <td>NaN</td>\n",
       "      <td>NaN</td>\n",
       "      <td>NaN</td>\n",
       "      <td>NaN</td>\n",
       "      <td>NaN</td>\n",
       "      <td>12.0</td>\n",
       "      <td>NaN</td>\n",
       "    </tr>\n",
       "    <tr>\n",
       "      <th>2</th>\n",
       "      <td>2023-01-01 02:00:00</td>\n",
       "      <td>0.0</td>\n",
       "      <td>NaN</td>\n",
       "      <td>NaN</td>\n",
       "      <td>NaN</td>\n",
       "      <td>NaN</td>\n",
       "      <td>NaN</td>\n",
       "      <td>12.0</td>\n",
       "      <td>NaN</td>\n",
       "    </tr>\n",
       "    <tr>\n",
       "      <th>3</th>\n",
       "      <td>2023-01-01 03:00:00</td>\n",
       "      <td>0.0</td>\n",
       "      <td>NaN</td>\n",
       "      <td>NaN</td>\n",
       "      <td>NaN</td>\n",
       "      <td>NaN</td>\n",
       "      <td>NaN</td>\n",
       "      <td>12.0</td>\n",
       "      <td>NaN</td>\n",
       "    </tr>\n",
       "    <tr>\n",
       "      <th>4</th>\n",
       "      <td>2023-01-01 04:00:00</td>\n",
       "      <td>0.0</td>\n",
       "      <td>NaN</td>\n",
       "      <td>NaN</td>\n",
       "      <td>NaN</td>\n",
       "      <td>NaN</td>\n",
       "      <td>NaN</td>\n",
       "      <td>12.0</td>\n",
       "      <td>NaN</td>\n",
       "    </tr>\n",
       "  </tbody>\n",
       "</table>\n",
       "</div>"
      ],
      "text/plain": [
       "                index  1680254606  1650051800  1670030907  1610002406  \\\n",
       "0 2023-01-01 00:00:00         0.0         NaN         NaN         NaN   \n",
       "1 2023-01-01 01:00:00         0.0         NaN         NaN         NaN   \n",
       "2 2023-01-01 02:00:00         0.0         NaN         NaN         NaN   \n",
       "3 2023-01-01 03:00:00         0.0         NaN         NaN         NaN   \n",
       "4 2023-01-01 04:00:00         0.0         NaN         NaN         NaN   \n",
       "\n",
       "   1650374201  1650038700  1690052500  1650054600  \n",
       "0         NaN         NaN        12.0         NaN  \n",
       "1         NaN         NaN        12.0         NaN  \n",
       "2         NaN         NaN        12.0         NaN  \n",
       "3         NaN         NaN        12.0         NaN  \n",
       "4         NaN         NaN        12.0         NaN  "
      ]
     },
     "execution_count": 4,
     "metadata": {},
     "output_type": "execute_result"
    }
   ],
   "source": [
    "df_imc = pd.read_hdf(\"../datasets/metr-imc/metr-imc.h5\")\n",
    "df_imc.head().reset_index().iloc[:, :9]"
   ]
  },
  {
   "cell_type": "code",
   "execution_count": 5,
   "metadata": {},
   "outputs": [
    {
     "name": "stdout",
     "output_type": "stream",
     "text": [
      "Is time series index: True\n",
      "Is data hourly: False\n"
     ]
    }
   ],
   "source": [
    "print(\"Is time series index:\", isinstance(df_imc.index, pd.DatetimeIndex))\n",
    "df_imc_time_diff = df_imc.index.to_series().diff().dropna()\n",
    "print(\"Is data hourly:\", (df_imc_time_diff == pd.Timedelta(hours=1)).all())"
   ]
  },
  {
   "cell_type": "code",
   "execution_count": 6,
   "metadata": {},
   "outputs": [
    {
     "name": "stdout",
     "output_type": "stream",
     "text": [
      "인덱스가 1시간 간격이 아닌 부분:\n",
      "시작 지점: 2023-12-06 23:00:00, 끝 지점: 2023-01-01 00:00:00\n",
      "시작 지점: 2023-11-23 23:00:00, 끝 지점: 2023-11-25 00:00:00\n",
      "시작 지점: 2023-11-25 23:00:00, 끝 지점: 2023-12-07 00:00:00\n",
      "시작 지점: 2023-12-31 23:00:00, 끝 지점: 2023-11-24 00:00:00\n",
      "시작 지점: 2023-11-24 23:00:00, 끝 지점: 2023-11-26 00:00:00\n"
     ]
    }
   ],
   "source": [
    "# 인덱스를 시간 차이로 확인\n",
    "time_diffs = df_imc.index.to_series().diff()\n",
    "\n",
    "# 1시간 간격이 아닌 부분 찾기\n",
    "gaps = time_diffs[time_diffs != pd.Timedelta(hours=1)]\n",
    "\n",
    "# 결과 출력\n",
    "if gaps.empty:\n",
    "    print(\"인덱스는 1시간 간격으로 되어 있습니다.\")\n",
    "else:\n",
    "    print(\"인덱스가 1시간 간격이 아닌 부분:\")\n",
    "    for idx in gaps.index:\n",
    "        print(f\"시작 지점: {df_imc.index[df_imc.index.get_loc(idx) - 1]}, 끝 지점: {idx}\")"
   ]
  },
  {
   "cell_type": "code",
   "execution_count": 7,
   "metadata": {},
   "outputs": [
    {
     "name": "stdout",
     "output_type": "stream",
     "text": [
      "인덱스가 1시간 간격이 아닌 부분:\n",
      "시작 지점: 2023-12-31 23:00:00, 끝 지점: 2023-01-01 00:00:00\n"
     ]
    }
   ],
   "source": [
    "df_imc_sorted = df_imc.sort_index()\n",
    "\n",
    "# 인덱스를 시간 차이로 확인\n",
    "time_diffs = df_imc_sorted.index.to_series().diff()\n",
    "\n",
    "# 1시간 간격이 아닌 부분 찾기\n",
    "gaps = time_diffs[time_diffs != pd.Timedelta(hours=1)]\n",
    "\n",
    "# 결과 출력\n",
    "if gaps.empty:\n",
    "    print(\"인덱스는 1시간 간격으로 되어 있습니다.\")\n",
    "else:\n",
    "    print(\"인덱스가 1시간 간격이 아닌 부분:\")\n",
    "    for idx in gaps.index:\n",
    "        print(f\"시작 지점: {df_imc_sorted.index[df_imc_sorted.index.get_loc(idx) - 1]}, 끝 지점: {idx}\")"
   ]
  },
  {
   "cell_type": "markdown",
   "metadata": {},
   "source": [
    "### Column and Data info"
   ]
  },
  {
   "cell_type": "code",
   "execution_count": 8,
   "metadata": {},
   "outputs": [
    {
     "name": "stdout",
     "output_type": "stream",
     "text": [
      "-- METR-LA\n",
      " dtype: [dtype('float64')] length: 207\n",
      "\n",
      "-- PEMS-BAY\n",
      " dtype: [dtype('float64')] length: 325\n",
      "\n",
      "-- Incheon\n",
      " dtype: [dtype('float64')] length: 2113\n"
     ]
    }
   ],
   "source": [
    "print(\"-- METR-LA\\n\", f\"dtype: {df_la.dtypes.unique().tolist()}\", f\"length: {len(df_la.columns)}\", end=\"\\n\\n\")\n",
    "print(\"-- PEMS-BAY\\n\", f\"dtype: {df_pems.dtypes.unique().tolist()}\", f\"length: {len(df_pems.columns)}\", end=\"\\n\\n\")\n",
    "print(\"-- Incheon\\n\", f\"dtype: {df_la.dtypes.unique().tolist()}\", f\"length: {len(df_imc.columns)}\")"
   ]
  },
  {
   "cell_type": "markdown",
   "metadata": {},
   "source": [
    "### Index info"
   ]
  },
  {
   "cell_type": "code",
   "execution_count": 9,
   "metadata": {},
   "outputs": [
    {
     "name": "stdout",
     "output_type": "stream",
     "text": [
      "-- METR-LA\n",
      " dtype: datetime64[ns] length: 34272\n",
      "\n",
      "-- PEMS-BAY\n",
      " dtype: datetime64[ns] length: 52116\n",
      "\n",
      "-- Incheon\n",
      " dtype: datetime64[ns] length: 8760\n"
     ]
    }
   ],
   "source": [
    "print(\"-- METR-LA\\n\", f\"dtype: {df_la.index.dtype}\", f\"length: {len(df_la.index)}\", end=\"\\n\\n\")\n",
    "print(\"-- PEMS-BAY\\n\", f\"dtype: {df_pems.index.dtype}\", f\"length: {len(df_pems.index)}\", end=\"\\n\\n\")\n",
    "print(\"-- Incheon\\n\", f\"dtype: {df_imc.index.dtype}\", f\"length: {len(df_imc.index)}\")"
   ]
  },
  {
   "cell_type": "markdown",
   "metadata": {},
   "source": [
    "### Missing Data (결측값)"
   ]
  },
  {
   "cell_type": "code",
   "execution_count": 10,
   "metadata": {},
   "outputs": [
    {
     "name": "stdout",
     "output_type": "stream",
     "text": [
      "-- METR-LA\n",
      "   No Missing: 207\n",
      "   <=100: 207\n",
      "   >100: 0\n",
      "\n",
      "-- PEMS-BAY\n",
      "   No Missing: 325\n",
      "   <=100: 325\n",
      "   >100: 0\n",
      "\n",
      "-- Incheon\n",
      "   No Missing: 65\n",
      "   <=100: 111\n",
      "   >100: 2002\n",
      "   <500: 296\n",
      "   <750: 423\n"
     ]
    }
   ],
   "source": [
    "print(\"-- METR-LA\")\n",
    "print(f\"   No Missing: {len(df_la.columns[df_la.isnull().sum() == 0])}\")\n",
    "print(f\"   <=100: {len(df_la.columns[df_la.isnull().sum() <= 100])}\")\n",
    "print(f\"   >100: {len(df_la.columns[df_la.isnull().sum() > 100])}\", end=\"\\n\\n\")\n",
    "\n",
    "print(\"-- PEMS-BAY\")\n",
    "print(f\"   No Missing: {len(df_pems.columns[df_pems.isnull().sum() == 0])}\")\n",
    "print(f\"   <=100: {len(df_pems.columns[df_pems.isnull().sum() <= 100])}\")\n",
    "print(f\"   >100: {len(df_pems.columns[df_pems.isnull().sum() > 100])}\", end=\"\\n\\n\")\n",
    "\n",
    "print(\"-- Incheon\")\n",
    "print(f\"   No Missing: {len(df_imc.columns[df_imc.isnull().sum() == 0])}\")\n",
    "print(f\"   <=100: {len(df_imc.columns[df_imc.isnull().sum() <= 100])}\")\n",
    "print(f\"   >100: {len(df_imc.columns[df_imc.isnull().sum() > 100])}\")\n",
    "print(f\"   <500: {len(df_imc.columns[df_imc.isnull().sum() < 500])}\")\n",
    "print(f\"   <750: {len(df_imc.columns[df_imc.isnull().sum() < 750])}\")"
   ]
  },
  {
   "cell_type": "code",
   "execution_count": 11,
   "metadata": {},
   "outputs": [
    {
     "data": {
      "image/png": "[encoded data removed]",
      "text/plain": [
       "<Figure size 1200x200 with 1 Axes>"
      ]
     },
     "metadata": {},
     "output_type": "display_data"
    }
   ],
   "source": [
    "sample_traffic_data = df_imc[df_imc.columns[df_imc.isnull().sum() == 0][0]]\n",
    "\n",
    "plt.figure(figsize=(12, 2))\n",
    "sns.lineplot(sample_traffic_data)\n",
    "plt.title(f\"{sample_traffic_data.name} Road Traffic Data\")\n",
    "plt.xlabel(\"Date Time\")\n",
    "plt.show()"
   ]
  },
  {
   "cell_type": "markdown",
   "metadata": {},
   "source": [
    "최종적으로는 결측값을 포함한 전체 데이터셋을 기반으로 모델을 생성하고 성능을 평가해야 하지만 결측값 문제는 현재 집중하고 있는 연구 방향과는 독립적인 문제로 판단된다. 또한, 모든 데이터를 포함하면 데이터의 크기가 커져 학습 시간이 길어지는 문제도 있다. 따라서 현재는 데이터를 줄여 효율성을 높이고자 먼저 결측값이 없는 데이터를 사용하여 모델을 생성하고, 이 모델이 유효한지 판단한 후, 결측값 문제를 추가로 해결하는 방향으로 연구를 진행하고자 한다."
   ]
  },
  {
   "cell_type": "code",
   "execution_count": 12,
   "metadata": {},
   "outputs": [],
   "source": [
    "from songdo_traffic_core.dataset.gis.view_layer.metr import SensorView\n",
    "\n",
    "no_missing_columns = df_imc.columns[df_imc.isnull().sum() == 0].to_list()\n",
    "less_500_missing_columns = df_imc.columns[df_imc.isnull().sum() < 500].to_list()\n",
    "less_750_missing_columns = df_imc.columns[df_imc.isnull().sum() < 750].to_list()"
   ]
  },
  {
   "cell_type": "code",
   "execution_count": 13,
   "metadata": {},
   "outputs": [
    {
     "name": "stderr",
     "output_type": "stream",
     "text": [
      "2024/07/02 17:27:05 pyogrio._io [INFO] Created 65 records\n",
      "2024/07/02 17:27:05 pyogrio._io [INFO] Created 296 records\n",
      "2024/07/02 17:27:05 pyogrio._io [INFO] Created 423 records\n"
     ]
    }
   ],
   "source": [
    "view = SensorView(\"../datasets/metr-imc/graph_sensor_locations.csv\")\n",
    "view.set_filter(no_missing_columns)\n",
    "view.export_to_file(\"../datasets/metr-imc/miscellaneous\", \"no_missing.shp\")\n",
    "view.set_filter(less_500_missing_columns)\n",
    "view.export_to_file(\"../datasets/metr-imc/miscellaneous\", \"missing_500.shp\")\n",
    "view.set_filter(less_750_missing_columns)\n",
    "view.export_to_file(\"../datasets/metr-imc/miscellaneous\", \"missing_750.shp\")"
   ]
  },
  {
   "cell_type": "markdown",
   "metadata": {},
   "source": [
    "결측치가 없는 데이터를 사용하는 것이 가장 이상적이지만, 이 경우 노드의 수가 너무 줄어들어 공간 정보가 모델에 충분히 반영되지 않을 가능성이 있다. 따라서, 기존에 많이 사용하는 METR-LA, PEMS-BAY 등의 데이터셋 크기와 유사한 수준으로 조정하였다. 결측치 허용 기준을 여러 개 비교한 결과, 500 정도가 기존 데이터셋과 유사한 크기를 유지하면서도 공간 정보를 적절히 반영할 수 있을 것으로 예상되었다.\n",
    "\n",
    "- 결측치가 하나도 없는 센서 노드\n",
    "![Missing_0](../docs/Missing_0.png)\n",
    "\n",
    "- 결측치 500개 미만의 센서 노드\n",
    "![Missing_500](../docs/Missing_500.png)\n",
    "\n",
    "- 결측치 750개 미미나의 센서 노드\n",
    "![Missing_750](../docs/Missing_750.png)"
   ]
  },
  {
   "cell_type": "markdown",
   "metadata": {},
   "source": [
    "이에 따라 500개 미만의 결측치를 가진 센서 노드만 별도로 추출하여 데이터셋을 다시 생성하였다."
   ]
  },
  {
   "cell_type": "code",
   "execution_count": 14,
   "metadata": {},
   "outputs": [
    {
     "name": "stderr",
     "output_type": "stream",
     "text": [
      "2024/07/02 17:27:06 songdo_traffic_core.dataset.metr_imc.generator [INFO] metr-imc.h5 already exists\n",
      "2024/07/02 17:27:06 songdo_traffic_core.dataset.metr_imc.generator [INFO] metr_ids.txt already exists\n",
      "2024/07/02 17:27:06 songdo_traffic_core.dataset.metr_imc.generator [INFO] graph_sensor_locations.csv already exists\n",
      "2024/07/02 17:27:06 songdo_traffic_core.dataset.metr_imc.generator [INFO] distances_imc_2024.csv already exists\n",
      "2024/07/02 17:27:06 songdo_traffic_core.dataset.metr_imc.generator [INFO] adj_mx.pkl already exists\n",
      "2024/07/02 17:27:06 songdo_traffic_core.dataset.metr_imc.generator [INFO] Start generating subset...\n",
      "2024/07/02 17:27:06 songdo_traffic_core.dataset.metr_imc.generator [INFO] Generating ../datasets/metr-imc-296/metr-imc.h5...\n",
      "2024/07/02 17:27:06 songdo_traffic_core.dataset.metr_imc.generator [INFO] Generating ../datasets/metr-imc-296/metr_ids.txt...\n",
      "2024/07/02 17:27:06 songdo_traffic_core.dataset.metr_imc.converter.metr_ids [INFO] Saving METR-IMC IDs to ../datasets/metr-imc-296//metr_ids.txt...\n",
      "2024/07/02 17:27:06 songdo_traffic_core.dataset.metr_imc.converter.metr_ids [INFO] Complete\n",
      "2024/07/02 17:27:06 songdo_traffic_core.dataset.metr_imc.generator [INFO] Generating ../datasets/metr-imc-296/graph_sensor_locations.csv...\n",
      "2024/07/02 17:27:07 songdo_traffic_core.dataset.metr_imc.converter.graph_sensor_locations [INFO] Saving sensor locations to ../datasets/metr-imc-296/graph_sensor_locations.csv...\n",
      "2024/07/02 17:27:07 songdo_traffic_core.dataset.metr_imc.converter.graph_sensor_locations [INFO] Complete\n",
      "2024/07/02 17:27:07 songdo_traffic_core.dataset.metr_imc.generator [INFO] Generating ../datasets/metr-imc-296/distances_imc_2023.csv...\n",
      "Adding Nodes: 100%|██████████| 16381/16381 [00:00<00:00, 39948.10it/s]\n",
      "Adding Edges: 100%|██████████| 16381/16381 [00:00<00:00, 29076.39it/s]\n",
      "2024/07/02 17:27:09 songdo_traffic_core.dataset.metr_imc.converter.distance_imc [INFO] Nodes: 16381, Edges: 35451\n",
      "Applying Turn Restrictions: 100%|██████████| 2330/2330 [00:00<00:00, 41492.32it/s]\n",
      "2024/07/02 17:27:09 songdo_traffic_core.dataset.metr_imc.converter.distance_imc [INFO] Nodes: 16381, Edges: 36039\n",
      "Generating Distances: 100%|██████████| 296/296 [00:00<00:00, 754.66it/s]\n",
      "2024/07/02 17:27:09 songdo_traffic_core.dataset.metr_imc.converter.distance_imc [INFO] Saving distances data to ../datasets/metr-imc-296/distances_imc_2023.csv...\n",
      "2024/07/02 17:27:09 songdo_traffic_core.dataset.metr_imc.converter.distance_imc [INFO] Complete\n",
      "2024/07/02 17:27:09 songdo_traffic_core.dataset.metr_imc.generator [INFO] Generating ../datasets/metr-imc-296/adj_mx.pkl...\n",
      "Filling matrix: 100%|██████████| 279673/279673 [00:00<00:00, 5514293.42it/s]\n",
      "/Users/sbyim/Workspace/Python/songdo-traffic/.venv/lib/python3.11/site-packages/numpy/core/_methods.py:206: RuntimeWarning: Degrees of freedom <= 0 for slice\n",
      "  ret = _var(a, axis=axis, dtype=dtype, out=out, ddof=ddof,\n",
      "/Users/sbyim/Workspace/Python/songdo-traffic/.venv/lib/python3.11/site-packages/numpy/core/_methods.py:163: RuntimeWarning: invalid value encountered in divide\n",
      "  arrmean = um.true_divide(arrmean, div, out=arrmean,\n",
      "/Users/sbyim/Workspace/Python/songdo-traffic/.venv/lib/python3.11/site-packages/numpy/core/_methods.py:198: RuntimeWarning: invalid value encountered in divide\n",
      "  ret = ret.dtype.type(ret / rcount)\n"
     ]
    }
   ],
   "source": [
    "from songdo_traffic_core.dataset.metr_imc.generator import MetrImcSubsetGenerator\n",
    "\n",
    "generator = MetrImcSubsetGenerator(\n",
    "    nodelink_dir=\"../datasets/metr-imc/nodelink\",\n",
    "    imcrts_dir=\"../datasets/metr-imc/imcrts\",\n",
    "    metr_imc_dir=\"../datasets/metr-imc/\",\n",
    ")"
   ]
  }
 ],
 "metadata": {
  "kernelspec": {
   "display_name": ".venv",
   "language": "python",
   "name": "python3"
  },
  "language_info": {
   "codemirror_mode": {
    "name": "ipython",
    "version": 3
   },
   "file_extension": ".py",
   "mimetype": "text/x-python",
   "name": "python",
   "nbconvert_exporter": "python",
   "pygments_lexer": "ipython3",
   "version": "3.11.9"
  }
 },
 "nbformat": 4,
 "nbformat_minor": 2
}
