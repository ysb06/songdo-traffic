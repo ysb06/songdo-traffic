{
 "cells": [
  {
   "cell_type": "markdown",
   "id": "26091ed0",
   "metadata": {},
   "source": [
    "# Small METR Dataset Generation\n",
    "\n",
    "실제 크기로는 계산량이 많아 테스트가 힘드므로 작고 확실한 데이터셋을 만들어 테스트"
   ]
  },
  {
   "cell_type": "code",
   "execution_count": null,
   "id": "f1cb5507",
   "metadata": {},
   "outputs": [],
   "source": [
    "from metr.components.metr_imc.traffic_data import get_raw\n",
    "from metr_val import PATH_CONF\n",
    "\n",
    "raw = get_raw(PATH_CONF.dataset.metr_imc)\n",
    "raw_df = raw.data\n",
    "raw_df.head(3)"
   ]
  },
  {
   "cell_type": "code",
   "execution_count": null,
   "id": "cea13e1b",
   "metadata": {},
   "outputs": [],
   "source": [
    "from metr.components.metr_imc.outlier import RemovingWeirdZeroOutlierProcessor\n",
    "\n",
    "processor = RemovingWeirdZeroOutlierProcessor()\n",
    "processed_df = processor.process(raw_df)\n",
    "\n",
    "processed_df.head(3)"
   ]
  },
  {
   "cell_type": "code",
   "execution_count": null,
   "id": "9454594a",
   "metadata": {},
   "outputs": [],
   "source": [
    "# 0 Outlier 제거 전 결측치 10% 이하 센서 수와 리스트\n",
    "missing_ratio_before = raw_df.isnull().sum() / len(raw_df)\n",
    "sensors_with_high_missing_before = missing_ratio_before[missing_ratio_before < 0.1]\n",
    "\n",
    "print(f\"0 Outlier 제거 전 결측치 10% 이하인 센서 수: {len(sensors_with_high_missing_before)}\")\n",
    "print(f\"전체 센서 수: {len(raw_df.columns)}\")\n",
    "print(f\"비율: {len(sensors_with_high_missing_before) / len(raw_df.columns) * 100:.2f}%\")\n",
    "print(f\"\\n결측치 10% 이하인 센서 리스트:\")\n",
    "print(sensors_with_high_missing_before.index.tolist())"
   ]
  },
  {
   "cell_type": "code",
   "execution_count": null,
   "id": "2050e18f",
   "metadata": {},
   "outputs": [],
   "source": [
    "# 0 Outlier 제거 후 결측치 10% 이하 센서 수와 리스트\n",
    "missing_ratio_after = processed_df.isnull().sum() / len(processed_df)\n",
    "sensors_with_high_missing_after = missing_ratio_after[missing_ratio_after < 0.1]\n",
    "\n",
    "print(f\"0 Outlier 제거 후 결측치 10% 이하인 센서 수: {len(sensors_with_high_missing_after)}\")\n",
    "print(f\"전체 센서 수: {len(processed_df.columns)}\")\n",
    "print(f\"비율: {len(sensors_with_high_missing_after) / len(processed_df.columns) * 100:.2f}%\")\n",
    "print(f\"\\n결측치 10% 이하인 센서 리스트:\")\n",
    "print(sensors_with_high_missing_after.index.tolist())"
   ]
  },
  {
   "cell_type": "code",
   "execution_count": null,
   "id": "c423cd69",
   "metadata": {},
   "outputs": [],
   "source": [
    "import matplotlib.pyplot as plt\n",
    "\n",
    "# processed_df의 결측치 수 히스토그램\n",
    "missing_counts = processed_df[sensors_with_high_missing_after.index].isnull().sum()\n",
    "\n",
    "plt.figure(figsize=(12, 6))\n",
    "plt.hist(missing_counts, bins=50, edgecolor=\"black\", alpha=0.7)\n",
    "plt.title(\"Histogram of Missing Values Count per Sensor (After Outlier Removal)\")\n",
    "plt.xlabel(\"Number of Missing Values\")\n",
    "plt.ylabel(\"Number of Sensors\")\n",
    "plt.grid(True, alpha=0.3)\n",
    "plt.show()\n",
    "\n",
    "print(f\"결측치 수 통계:\")\n",
    "print(f\"원래 전체 데이터 수: {len(processed_df)}\")\n",
    "print(f\"평균: {missing_counts.mean():.2f}\")\n",
    "print(f\"중간값: {missing_counts.median():.2f}\")\n",
    "print(f\"최소값: {missing_counts.min()}\")\n",
    "print(f\"최대값: {missing_counts.max()}\")\n",
    "print(f\"표준편차: {missing_counts.std():.2f}\")"
   ]
  },
  {
   "cell_type": "code",
   "execution_count": null,
   "id": "a6a1ffc7",
   "metadata": {},
   "outputs": [],
   "source": [
    "import geopandas as gpd\n",
    "\n",
    "nodelink_raw = gpd.read_file(\"../datasets/metr-imc/nodelink/imc_link.shp\")\n",
    "nodelink_raw.head(3)"
   ]
  },
  {
   "cell_type": "code",
   "execution_count": null,
   "id": "a1d4f688",
   "metadata": {},
   "outputs": [],
   "source": [
    "nodelink_raw.explore()"
   ]
  },
  {
   "cell_type": "code",
   "execution_count": null,
   "id": "52513cff",
   "metadata": {},
   "outputs": [],
   "source": [
    "# 10% 이하 결측치를 가진 센서를 nodelink_raw에서 추출하여 지도에 표시\n",
    "sensors_link_ids = sensors_with_high_missing_after.index.tolist()\n",
    "\n",
    "# LINK_ID가 센서 ID와 일치하는 링크만 필터링\n",
    "filtered_nodelink = nodelink_raw[nodelink_raw['LINK_ID'].isin(sensors_link_ids)]\n",
    "\n",
    "print(f\"10% 이하 결측치를 가진 센서 수: {len(sensors_link_ids)}\")\n",
    "print(f\"nodelink_raw에서 찾은 해당 센서 수: {len(filtered_nodelink)}\")\n",
    "print(f\"일치율: {len(filtered_nodelink) / len(sensors_link_ids) * 100:.2f}%\")\n",
    "\n",
    "# 지도에 표시\n",
    "filtered_nodelink.explore()"
   ]
  },
  {
   "cell_type": "code",
   "execution_count": null,
   "id": "55ab0e1a",
   "metadata": {},
   "outputs": [],
   "source": [
    "save_folder_path = \"../traffic_imc/data\"\n",
    "save_file_path = f\"{save_folder_path}/less10mv_dataset.shp\""
   ]
  },
  {
   "cell_type": "code",
   "execution_count": null,
   "id": "e594a2d3",
   "metadata": {},
   "outputs": [],
   "source": [
    "filtered_nodelink.to_file(save_file_path, driver='ESRI Shapefile')"
   ]
  },
  {
   "cell_type": "markdown",
   "id": "43b999e5",
   "metadata": {},
   "source": [
    "## QGIS에서 편집한 Shapefile"
   ]
  },
  {
   "cell_type": "code",
   "execution_count": null,
   "id": "77770c05",
   "metadata": {},
   "outputs": [],
   "source": [
    "selected_small_gdf = gpd.read_file(save_folder_path + \"/selected_small_dataset.shp\")\n",
    "selected_small_gdf.explore()"
   ]
  },
  {
   "cell_type": "code",
   "execution_count": null,
   "id": "559d5dab",
   "metadata": {},
   "outputs": [],
   "source": [
    "selected_sensors_gdf = selected_small_gdf['LINK_ID']\n",
    "selected_sensors_list = selected_sensors_gdf.unique().tolist()\n",
    "\n",
    "print(f\"선택된 센서 수(Not Unique): {len(selected_sensors_gdf)}\")\n",
    "print(f\"선택된 센서 수: {len(selected_sensors_list)}\")"
   ]
  },
  {
   "cell_type": "code",
   "execution_count": null,
   "id": "7d948b42",
   "metadata": {},
   "outputs": [],
   "source": [
    "from metr.pipeline import generate_subset_dataset\n",
    "import os\n",
    "\n",
    "save_selected_dir_path = f\"{save_folder_path}/selected_small_v1\"\n",
    "os.makedirs(save_selected_dir_path, exist_ok=True)\n",
    "\n",
    "generate_subset_dataset(\n",
    "    target_nodelink=selected_sensors_list,\n",
    "    save_dir_path=save_selected_dir_path,\n",
    ")"
   ]
  },
  {
   "cell_type": "code",
   "execution_count": null,
   "id": "9ec1f906",
   "metadata": {},
   "outputs": [],
   "source": [
    "from metr.components.metr_imc.traffic_data import get_raw\n",
    "from metr.pipeline import PATH_CONF\n",
    "\n",
    "traffic_save_path = os.path.join(\n",
    "    save_selected_dir_path,\n",
    "    PATH_CONF.raw[\"dataset\"][\"filenames\"][\"metr_imc\"],\n",
    ")\n",
    "\n",
    "raw = get_raw(traffic_save_path)\n",
    "raw_df = raw.data\n",
    "raw_df.head(3)"
   ]
  },
  {
   "cell_type": "code",
   "execution_count": null,
   "id": "4d974476",
   "metadata": {},
   "outputs": [],
   "source": [
    "from metr.pipeline import generate_distances_shapefile\n",
    "\n",
    "distance_file_path = os.path.join(\n",
    "    save_selected_dir_path,\n",
    "    PATH_CONF.raw[\"dataset\"][\"filenames\"][\"distances\"],\n",
    ")\n",
    "sensor_locations_path = PATH_CONF.sensor_locations_path\n",
    "output_dir_path = os.path.join(save_selected_dir_path, \"misc\")\n",
    "os.makedirs(output_dir_path, exist_ok=True)\n",
    "output_path = os.path.join(output_dir_path, \"distances.shp\")\n",
    "\n",
    "generate_distances_shapefile(\n",
    "    distances_path=distance_file_path,\n",
    "    sensor_locations_path=sensor_locations_path,\n",
    "    output_path=output_path,\n",
    ")"
   ]
  },
  {
   "cell_type": "code",
   "execution_count": null,
   "id": "6107798d",
   "metadata": {},
   "outputs": [],
   "source": [
    "distance_gdf = gpd.read_file(output_path)\n",
    "distance_gdf.explore()"
   ]
  }
 ],
 "metadata": {
  "kernelspec": {
   "display_name": "notebooks-3.11 (3.11.9)",
   "language": "python",
   "name": "python3"
  },
  "language_info": {
   "codemirror_mode": {
    "name": "ipython",
    "version": 3
   },
   "file_extension": ".py",
   "mimetype": "text/x-python",
   "name": "python",
   "nbconvert_exporter": "python",
   "pygments_lexer": "ipython3",
   "version": "3.11.9"
  }
 },
 "nbformat": 4,
 "nbformat_minor": 5
}
