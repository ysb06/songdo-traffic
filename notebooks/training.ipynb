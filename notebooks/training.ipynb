{
 "cells": [
  {
   "cell_type": "code",
   "execution_count": 3,
   "metadata": {},
   "outputs": [
    {
     "name": "stdout",
     "output_type": "stream",
     "text": [
      "Processing /home/sbyim/Workspace/Python/songdo-traffic/songdo_metr\n",
      "  Installing build dependencies ... \u001b[?25ldone\n",
      "\u001b[?25h  Getting requirements to build wheel ... \u001b[?25ldone\n",
      "\u001b[?25h  Preparing metadata (pyproject.toml) ... \u001b[?25ldone\n",
      "\u001b[?25hRequirement already satisfied: networkx>=3.4.2 in ./.venv/lib/python3.10/site-packages (from songdo_metr==0.1.1) (3.4.2)\n",
      "Requirement already satisfied: scipy>=1.14.1 in ./.venv/lib/python3.10/site-packages (from songdo_metr==0.1.1) (1.14.1)\n",
      "Requirement already satisfied: shapely>=2.0.6 in ./.venv/lib/python3.10/site-packages (from songdo_metr==0.1.1) (2.0.6)\n",
      "Requirement already satisfied: requests>=2.32.3 in ./.venv/lib/python3.10/site-packages (from songdo_metr==0.1.1) (2.32.3)\n",
      "Requirement already satisfied: torch>=2.0.0 in ./.venv/lib/python3.10/site-packages (from songdo_metr==0.1.1) (2.4.1)\n",
      "Requirement already satisfied: geopandas>=1.0.1 in ./.venv/lib/python3.10/site-packages (from songdo_metr==0.1.1) (1.0.1)\n",
      "Requirement already satisfied: numpy>=2.1.2 in ./.venv/lib/python3.10/site-packages (from songdo_metr==0.1.1) (2.1.2)\n",
      "Requirement already satisfied: pandas>=2.2.3 in ./.venv/lib/python3.10/site-packages (from songdo_metr==0.1.1) (2.2.3)\n",
      "Requirement already satisfied: scikit-learn>=1.5.2 in ./.venv/lib/python3.10/site-packages (from songdo_metr==0.1.1) (1.5.2)\n",
      "Requirement already satisfied: pyyaml>=6.0.2 in ./.venv/lib/python3.10/site-packages (from songdo_metr==0.1.1) (6.0.2)\n",
      "Requirement already satisfied: tqdm>=4.66.5 in ./.venv/lib/python3.10/site-packages (from songdo_metr==0.1.1) (4.66.5)\n",
      "Requirement already satisfied: pyogrio>=0.7.2 in ./.venv/lib/python3.10/site-packages (from geopandas>=1.0.1->songdo_metr==0.1.1) (0.10.0)\n",
      "Requirement already satisfied: packaging in ./.venv/lib/python3.10/site-packages (from geopandas>=1.0.1->songdo_metr==0.1.1) (24.1)\n",
      "Requirement already satisfied: pyproj>=3.3.0 in ./.venv/lib/python3.10/site-packages (from geopandas>=1.0.1->songdo_metr==0.1.1) (3.7.0)\n",
      "Requirement already satisfied: pytz>=2020.1 in ./.venv/lib/python3.10/site-packages (from pandas>=2.2.3->songdo_metr==0.1.1) (2024.2)\n",
      "Requirement already satisfied: tzdata>=2022.7 in ./.venv/lib/python3.10/site-packages (from pandas>=2.2.3->songdo_metr==0.1.1) (2024.2)\n",
      "Requirement already satisfied: python-dateutil>=2.8.2 in ./.venv/lib/python3.10/site-packages (from pandas>=2.2.3->songdo_metr==0.1.1) (2.9.0.post0)\n",
      "Requirement already satisfied: urllib3<3,>=1.21.1 in ./.venv/lib/python3.10/site-packages (from requests>=2.32.3->songdo_metr==0.1.1) (2.2.3)\n",
      "Requirement already satisfied: certifi>=2017.4.17 in ./.venv/lib/python3.10/site-packages (from requests>=2.32.3->songdo_metr==0.1.1) (2024.8.30)\n",
      "Requirement already satisfied: charset-normalizer<4,>=2 in ./.venv/lib/python3.10/site-packages (from requests>=2.32.3->songdo_metr==0.1.1) (3.4.0)\n",
      "Requirement already satisfied: idna<4,>=2.5 in ./.venv/lib/python3.10/site-packages (from requests>=2.32.3->songdo_metr==0.1.1) (3.10)\n",
      "Requirement already satisfied: joblib>=1.2.0 in ./.venv/lib/python3.10/site-packages (from scikit-learn>=1.5.2->songdo_metr==0.1.1) (1.4.2)\n",
      "Requirement already satisfied: threadpoolctl>=3.1.0 in ./.venv/lib/python3.10/site-packages (from scikit-learn>=1.5.2->songdo_metr==0.1.1) (3.5.0)\n",
      "Requirement already satisfied: triton==3.0.0 in ./.venv/lib/python3.10/site-packages (from torch>=2.0.0->songdo_metr==0.1.1) (3.0.0)\n",
      "Requirement already satisfied: nvidia-cuda-nvrtc-cu12==12.1.105 in ./.venv/lib/python3.10/site-packages (from torch>=2.0.0->songdo_metr==0.1.1) (12.1.105)\n",
      "Requirement already satisfied: nvidia-cuda-cupti-cu12==12.1.105 in ./.venv/lib/python3.10/site-packages (from torch>=2.0.0->songdo_metr==0.1.1) (12.1.105)\n",
      "Requirement already satisfied: nvidia-cufft-cu12==11.0.2.54 in ./.venv/lib/python3.10/site-packages (from torch>=2.0.0->songdo_metr==0.1.1) (11.0.2.54)\n",
      "Requirement already satisfied: nvidia-cusparse-cu12==12.1.0.106 in ./.venv/lib/python3.10/site-packages (from torch>=2.0.0->songdo_metr==0.1.1) (12.1.0.106)\n",
      "Requirement already satisfied: typing-extensions>=4.8.0 in ./.venv/lib/python3.10/site-packages (from torch>=2.0.0->songdo_metr==0.1.1) (4.12.2)\n",
      "Requirement already satisfied: nvidia-cublas-cu12==12.1.3.1 in ./.venv/lib/python3.10/site-packages (from torch>=2.0.0->songdo_metr==0.1.1) (12.1.3.1)\n",
      "Requirement already satisfied: nvidia-nccl-cu12==2.20.5 in ./.venv/lib/python3.10/site-packages (from torch>=2.0.0->songdo_metr==0.1.1) (2.20.5)\n",
      "Requirement already satisfied: nvidia-curand-cu12==10.3.2.106 in ./.venv/lib/python3.10/site-packages (from torch>=2.0.0->songdo_metr==0.1.1) (10.3.2.106)\n",
      "Requirement already satisfied: jinja2 in ./.venv/lib/python3.10/site-packages (from torch>=2.0.0->songdo_metr==0.1.1) (3.1.4)\n",
      "Requirement already satisfied: fsspec in ./.venv/lib/python3.10/site-packages (from torch>=2.0.0->songdo_metr==0.1.1) (2024.10.0)\n",
      "Requirement already satisfied: filelock in ./.venv/lib/python3.10/site-packages (from torch>=2.0.0->songdo_metr==0.1.1) (3.16.1)\n",
      "Requirement already satisfied: nvidia-cusolver-cu12==11.4.5.107 in ./.venv/lib/python3.10/site-packages (from torch>=2.0.0->songdo_metr==0.1.1) (11.4.5.107)\n",
      "Requirement already satisfied: nvidia-cuda-runtime-cu12==12.1.105 in ./.venv/lib/python3.10/site-packages (from torch>=2.0.0->songdo_metr==0.1.1) (12.1.105)\n",
      "Requirement already satisfied: nvidia-nvtx-cu12==12.1.105 in ./.venv/lib/python3.10/site-packages (from torch>=2.0.0->songdo_metr==0.1.1) (12.1.105)\n",
      "Requirement already satisfied: nvidia-cudnn-cu12==9.1.0.70 in ./.venv/lib/python3.10/site-packages (from torch>=2.0.0->songdo_metr==0.1.1) (9.1.0.70)\n",
      "Requirement already satisfied: sympy in ./.venv/lib/python3.10/site-packages (from torch>=2.0.0->songdo_metr==0.1.1) (1.13.1)\n",
      "Requirement already satisfied: nvidia-nvjitlink-cu12 in ./.venv/lib/python3.10/site-packages (from nvidia-cusolver-cu12==11.4.5.107->torch>=2.0.0->songdo_metr==0.1.1) (12.4.127)\n",
      "Requirement already satisfied: six>=1.5 in ./.venv/lib/python3.10/site-packages (from python-dateutil>=2.8.2->pandas>=2.2.3->songdo_metr==0.1.1) (1.16.0)\n",
      "Requirement already satisfied: MarkupSafe>=2.0 in ./.venv/lib/python3.10/site-packages (from jinja2->torch>=2.0.0->songdo_metr==0.1.1) (3.0.2)\n",
      "Requirement already satisfied: mpmath<1.4,>=1.1.0 in ./.venv/lib/python3.10/site-packages (from sympy->torch>=2.0.0->songdo_metr==0.1.1) (1.3.0)\n",
      "Building wheels for collected packages: songdo_metr\n",
      "  Building wheel for songdo_metr (pyproject.toml) ... \u001b[?25ldone\n",
      "\u001b[?25h  Created wheel for songdo_metr: filename=songdo_metr-0.1.1-py3-none-any.whl size=40172 sha256=31c5ad0f01946402ee13f561a5e0b0ac497dce505e550b6c9fc66c067092ba08\n",
      "  Stored in directory: /tmp/pip-ephem-wheel-cache-0sxc8ucd/wheels/7e/ce/41/dbc159fc5d09ad0ffdaec44175a91558d292dbac341a245538\n",
      "Successfully built songdo_metr\n",
      "Installing collected packages: songdo_metr\n",
      "  Attempting uninstall: songdo_metr\n",
      "    Found existing installation: songdo_metr 0.1.1\n",
      "    Uninstalling songdo_metr-0.1.1:\n",
      "      Successfully uninstalled songdo_metr-0.1.1\n",
      "Successfully installed songdo_metr-0.1.1\n",
      "Note: you may need to restart the kernel to use updated packages.\n"
     ]
    }
   ],
   "source": [
    "%pip install ../songdo_metr"
   ]
  },
  {
   "cell_type": "code",
   "execution_count": 4,
   "metadata": {},
   "outputs": [
    {
     "name": "stdout",
     "output_type": "stream",
     "text": [
      "Processing /home/sbyim/Workspace/Python/songdo-traffic/songdo_stgcn_wave\n",
      "  Installing build dependencies ... \u001b[?25ldone\n",
      "\u001b[?25h  Getting requirements to build wheel ... \u001b[?25ldone\n",
      "\u001b[?25h  Preparing metadata (pyproject.toml) ... \u001b[?25ldone\n",
      "\u001b[?25hRequirement already satisfied: torchaudio==2.4.1 in ./.venv/lib/python3.10/site-packages (from songdo_stgcn_wave==0.1.0) (2.4.1)\n",
      "Requirement already satisfied: torchvision==0.19.1 in ./.venv/lib/python3.10/site-packages (from songdo_stgcn_wave==0.1.0) (0.19.1)\n",
      "Requirement already satisfied: torch==2.4.1 in ./.venv/lib/python3.10/site-packages (from songdo_stgcn_wave==0.1.0) (2.4.1)\n",
      "Requirement already satisfied: wandb>=0.18.5 in ./.venv/lib/python3.10/site-packages (from songdo_stgcn_wave==0.1.0) (0.18.5)\n",
      "Requirement already satisfied: nvidia-curand-cu12==10.3.2.106 in ./.venv/lib/python3.10/site-packages (from torch==2.4.1->songdo_stgcn_wave==0.1.0) (10.3.2.106)\n",
      "Requirement already satisfied: sympy in ./.venv/lib/python3.10/site-packages (from torch==2.4.1->songdo_stgcn_wave==0.1.0) (1.13.1)\n",
      "Requirement already satisfied: nvidia-cuda-cupti-cu12==12.1.105 in ./.venv/lib/python3.10/site-packages (from torch==2.4.1->songdo_stgcn_wave==0.1.0) (12.1.105)\n",
      "Requirement already satisfied: filelock in ./.venv/lib/python3.10/site-packages (from torch==2.4.1->songdo_stgcn_wave==0.1.0) (3.16.1)\n",
      "Requirement already satisfied: nvidia-cusparse-cu12==12.1.0.106 in ./.venv/lib/python3.10/site-packages (from torch==2.4.1->songdo_stgcn_wave==0.1.0) (12.1.0.106)\n",
      "Requirement already satisfied: nvidia-cuda-nvrtc-cu12==12.1.105 in ./.venv/lib/python3.10/site-packages (from torch==2.4.1->songdo_stgcn_wave==0.1.0) (12.1.105)\n",
      "Requirement already satisfied: typing-extensions>=4.8.0 in ./.venv/lib/python3.10/site-packages (from torch==2.4.1->songdo_stgcn_wave==0.1.0) (4.12.2)\n",
      "Requirement already satisfied: nvidia-cudnn-cu12==9.1.0.70 in ./.venv/lib/python3.10/site-packages (from torch==2.4.1->songdo_stgcn_wave==0.1.0) (9.1.0.70)\n",
      "Requirement already satisfied: jinja2 in ./.venv/lib/python3.10/site-packages (from torch==2.4.1->songdo_stgcn_wave==0.1.0) (3.1.4)\n",
      "Requirement already satisfied: nvidia-cusolver-cu12==11.4.5.107 in ./.venv/lib/python3.10/site-packages (from torch==2.4.1->songdo_stgcn_wave==0.1.0) (11.4.5.107)\n",
      "Requirement already satisfied: nvidia-nccl-cu12==2.20.5 in ./.venv/lib/python3.10/site-packages (from torch==2.4.1->songdo_stgcn_wave==0.1.0) (2.20.5)\n",
      "Requirement already satisfied: nvidia-cuda-runtime-cu12==12.1.105 in ./.venv/lib/python3.10/site-packages (from torch==2.4.1->songdo_stgcn_wave==0.1.0) (12.1.105)\n",
      "Requirement already satisfied: triton==3.0.0 in ./.venv/lib/python3.10/site-packages (from torch==2.4.1->songdo_stgcn_wave==0.1.0) (3.0.0)\n",
      "Requirement already satisfied: fsspec in ./.venv/lib/python3.10/site-packages (from torch==2.4.1->songdo_stgcn_wave==0.1.0) (2024.10.0)\n",
      "Requirement already satisfied: nvidia-cufft-cu12==11.0.2.54 in ./.venv/lib/python3.10/site-packages (from torch==2.4.1->songdo_stgcn_wave==0.1.0) (11.0.2.54)\n",
      "Requirement already satisfied: nvidia-nvtx-cu12==12.1.105 in ./.venv/lib/python3.10/site-packages (from torch==2.4.1->songdo_stgcn_wave==0.1.0) (12.1.105)\n",
      "Requirement already satisfied: networkx in ./.venv/lib/python3.10/site-packages (from torch==2.4.1->songdo_stgcn_wave==0.1.0) (3.4.2)\n",
      "Requirement already satisfied: nvidia-cublas-cu12==12.1.3.1 in ./.venv/lib/python3.10/site-packages (from torch==2.4.1->songdo_stgcn_wave==0.1.0) (12.1.3.1)\n",
      "Requirement already satisfied: numpy in ./.venv/lib/python3.10/site-packages (from torchvision==0.19.1->songdo_stgcn_wave==0.1.0) (2.1.2)\n",
      "Requirement already satisfied: pillow!=8.3.*,>=5.3.0 in ./.venv/lib/python3.10/site-packages (from torchvision==0.19.1->songdo_stgcn_wave==0.1.0) (11.0.0)\n",
      "Requirement already satisfied: nvidia-nvjitlink-cu12 in ./.venv/lib/python3.10/site-packages (from nvidia-cusolver-cu12==11.4.5.107->torch==2.4.1->songdo_stgcn_wave==0.1.0) (12.4.127)\n",
      "Requirement already satisfied: pyyaml in ./.venv/lib/python3.10/site-packages (from wandb>=0.18.5->songdo_stgcn_wave==0.1.0) (6.0.2)\n",
      "Requirement already satisfied: docker-pycreds>=0.4.0 in ./.venv/lib/python3.10/site-packages (from wandb>=0.18.5->songdo_stgcn_wave==0.1.0) (0.4.0)\n",
      "Requirement already satisfied: platformdirs in ./.venv/lib/python3.10/site-packages (from wandb>=0.18.5->songdo_stgcn_wave==0.1.0) (4.3.6)\n",
      "Requirement already satisfied: sentry-sdk>=2.0.0 in ./.venv/lib/python3.10/site-packages (from wandb>=0.18.5->songdo_stgcn_wave==0.1.0) (2.17.0)\n",
      "Requirement already satisfied: setuptools in ./.venv/lib/python3.10/site-packages (from wandb>=0.18.5->songdo_stgcn_wave==0.1.0) (59.6.0)\n",
      "Requirement already satisfied: gitpython!=3.1.29,>=1.0.0 in ./.venv/lib/python3.10/site-packages (from wandb>=0.18.5->songdo_stgcn_wave==0.1.0) (3.1.43)\n",
      "Requirement already satisfied: click!=8.0.0,>=7.1 in ./.venv/lib/python3.10/site-packages (from wandb>=0.18.5->songdo_stgcn_wave==0.1.0) (8.1.7)\n",
      "Requirement already satisfied: setproctitle in ./.venv/lib/python3.10/site-packages (from wandb>=0.18.5->songdo_stgcn_wave==0.1.0) (1.3.3)\n",
      "Requirement already satisfied: requests<3,>=2.0.0 in ./.venv/lib/python3.10/site-packages (from wandb>=0.18.5->songdo_stgcn_wave==0.1.0) (2.32.3)\n",
      "Requirement already satisfied: psutil>=5.0.0 in ./.venv/lib/python3.10/site-packages (from wandb>=0.18.5->songdo_stgcn_wave==0.1.0) (6.1.0)\n",
      "Requirement already satisfied: protobuf!=4.21.0,!=5.28.0,<6,>=3.19.0 in ./.venv/lib/python3.10/site-packages (from wandb>=0.18.5->songdo_stgcn_wave==0.1.0) (5.28.2)\n",
      "Requirement already satisfied: six>=1.4.0 in ./.venv/lib/python3.10/site-packages (from docker-pycreds>=0.4.0->wandb>=0.18.5->songdo_stgcn_wave==0.1.0) (1.16.0)\n",
      "Requirement already satisfied: gitdb<5,>=4.0.1 in ./.venv/lib/python3.10/site-packages (from gitpython!=3.1.29,>=1.0.0->wandb>=0.18.5->songdo_stgcn_wave==0.1.0) (4.0.11)\n",
      "Requirement already satisfied: certifi>=2017.4.17 in ./.venv/lib/python3.10/site-packages (from requests<3,>=2.0.0->wandb>=0.18.5->songdo_stgcn_wave==0.1.0) (2024.8.30)\n",
      "Requirement already satisfied: urllib3<3,>=1.21.1 in ./.venv/lib/python3.10/site-packages (from requests<3,>=2.0.0->wandb>=0.18.5->songdo_stgcn_wave==0.1.0) (2.2.3)\n",
      "Requirement already satisfied: idna<4,>=2.5 in ./.venv/lib/python3.10/site-packages (from requests<3,>=2.0.0->wandb>=0.18.5->songdo_stgcn_wave==0.1.0) (3.10)\n",
      "Requirement already satisfied: charset-normalizer<4,>=2 in ./.venv/lib/python3.10/site-packages (from requests<3,>=2.0.0->wandb>=0.18.5->songdo_stgcn_wave==0.1.0) (3.4.0)\n",
      "Requirement already satisfied: MarkupSafe>=2.0 in ./.venv/lib/python3.10/site-packages (from jinja2->torch==2.4.1->songdo_stgcn_wave==0.1.0) (3.0.2)\n",
      "Requirement already satisfied: mpmath<1.4,>=1.1.0 in ./.venv/lib/python3.10/site-packages (from sympy->torch==2.4.1->songdo_stgcn_wave==0.1.0) (1.3.0)\n",
      "Requirement already satisfied: smmap<6,>=3.0.1 in ./.venv/lib/python3.10/site-packages (from gitdb<5,>=4.0.1->gitpython!=3.1.29,>=1.0.0->wandb>=0.18.5->songdo_stgcn_wave==0.1.0) (5.0.1)\n",
      "Building wheels for collected packages: songdo_stgcn_wave\n",
      "  Building wheel for songdo_stgcn_wave (pyproject.toml) ... \u001b[?25ldone\n",
      "\u001b[?25h  Created wheel for songdo_stgcn_wave: filename=songdo_stgcn_wave-0.1.0-py3-none-any.whl size=8835 sha256=5aa1f778f5cc4a98fec91021e1c21024386c8c5dbc58488626a0a15212a36676\n",
      "  Stored in directory: /tmp/pip-ephem-wheel-cache-mc4e4jbg/wheels/5a/bb/41/e1c59d80da6b89f1962a84db95783b01d95d01dee0a96ad1b8\n",
      "Successfully built songdo_stgcn_wave\n",
      "Installing collected packages: songdo_stgcn_wave\n",
      "  Attempting uninstall: songdo_stgcn_wave\n",
      "    Found existing installation: songdo_stgcn_wave 0.1.0\n",
      "    Uninstalling songdo_stgcn_wave-0.1.0:\n",
      "      Successfully uninstalled songdo_stgcn_wave-0.1.0\n",
      "Successfully installed songdo_stgcn_wave-0.1.0\n",
      "Note: you may need to restart the kernel to use updated packages.\n"
     ]
    }
   ],
   "source": [
    "%pip install ../songdo_stgcn_wave"
   ]
  },
  {
   "cell_type": "code",
   "execution_count": 5,
   "metadata": {},
   "outputs": [
    {
     "name": "stdout",
     "output_type": "stream",
     "text": [
      "Looking in links: https://data.dgl.ai/wheels/torch-2.4/cu121/repo.html\n",
      "\u001b[33mDEPRECATION: The HTML index page being used (https://data.dgl.ai/wheels/torch-2.4/cu121/repo.html) is not a proper HTML 5 document. This is in violation of PEP 503 which requires these pages to be well-formed HTML 5 documents. Please reach out to the owners of this index page, and ask them to update this index page to a valid HTML 5 document. pip 22.2 will enforce this behaviour change. Discussion can be found at https://github.com/pypa/pip/issues/10825\u001b[0m\u001b[33m\n",
      "\u001b[0mCollecting dgl\n",
      "  Downloading https://data.dgl.ai/wheels/torch-2.4/cu121/dgl-2.4.0%2Bcu121-cp310-cp310-manylinux1_x86_64.whl (355.2 MB)\n",
      "\u001b[2K     \u001b[90m━━━━━━━━━━━━━━━━━━━━━━━━━━━━━━━━━━━━━━\u001b[0m \u001b[32m355.2/355.2 MB\u001b[0m \u001b[31m11.3 MB/s\u001b[0m eta \u001b[36m0:00:00\u001b[0m00:01\u001b[0m00:01\u001b[0m\n",
      "\u001b[?25hRequirement already satisfied: psutil>=5.8.0 in ./.venv/lib/python3.10/site-packages (from dgl) (6.1.0)\n",
      "Collecting torch<=2.4.0\n",
      "  Using cached torch-2.4.0-cp310-cp310-manylinux1_x86_64.whl (797.2 MB)\n",
      "Requirement already satisfied: pandas in ./.venv/lib/python3.10/site-packages (from dgl) (2.2.3)\n",
      "Requirement already satisfied: requests>=2.19.0 in ./.venv/lib/python3.10/site-packages (from dgl) (2.32.3)\n",
      "Requirement already satisfied: packaging in ./.venv/lib/python3.10/site-packages (from dgl) (24.1)\n",
      "Requirement already satisfied: scipy>=1.1.0 in ./.venv/lib/python3.10/site-packages (from dgl) (1.14.1)\n",
      "Collecting pydantic>=2.0\n",
      "  Using cached pydantic-2.9.2-py3-none-any.whl (434 kB)\n",
      "Requirement already satisfied: numpy>=1.14.0 in ./.venv/lib/python3.10/site-packages (from dgl) (2.1.2)\n",
      "Requirement already satisfied: networkx>=2.1 in ./.venv/lib/python3.10/site-packages (from dgl) (3.4.2)\n",
      "Requirement already satisfied: tqdm in ./.venv/lib/python3.10/site-packages (from dgl) (4.66.5)\n",
      "Requirement already satisfied: pyyaml in ./.venv/lib/python3.10/site-packages (from dgl) (6.0.2)\n",
      "Requirement already satisfied: typing-extensions>=4.6.1 in ./.venv/lib/python3.10/site-packages (from pydantic>=2.0->dgl) (4.12.2)\n",
      "Collecting annotated-types>=0.6.0\n",
      "  Using cached annotated_types-0.7.0-py3-none-any.whl (13 kB)\n",
      "Collecting pydantic-core==2.23.4\n",
      "  Using cached pydantic_core-2.23.4-cp310-cp310-manylinux_2_17_x86_64.manylinux2014_x86_64.whl (2.1 MB)\n",
      "Requirement already satisfied: certifi>=2017.4.17 in ./.venv/lib/python3.10/site-packages (from requests>=2.19.0->dgl) (2024.8.30)\n",
      "Requirement already satisfied: urllib3<3,>=1.21.1 in ./.venv/lib/python3.10/site-packages (from requests>=2.19.0->dgl) (2.2.3)\n",
      "Requirement already satisfied: charset-normalizer<4,>=2 in ./.venv/lib/python3.10/site-packages (from requests>=2.19.0->dgl) (3.4.0)\n",
      "Requirement already satisfied: idna<4,>=2.5 in ./.venv/lib/python3.10/site-packages (from requests>=2.19.0->dgl) (3.10)\n",
      "Requirement already satisfied: nvidia-cufft-cu12==11.0.2.54 in ./.venv/lib/python3.10/site-packages (from torch<=2.4.0->dgl) (11.0.2.54)\n",
      "Requirement already satisfied: fsspec in ./.venv/lib/python3.10/site-packages (from torch<=2.4.0->dgl) (2024.10.0)\n",
      "Requirement already satisfied: nvidia-cuda-nvrtc-cu12==12.1.105 in ./.venv/lib/python3.10/site-packages (from torch<=2.4.0->dgl) (12.1.105)\n",
      "Requirement already satisfied: nvidia-cusparse-cu12==12.1.0.106 in ./.venv/lib/python3.10/site-packages (from torch<=2.4.0->dgl) (12.1.0.106)\n",
      "Requirement already satisfied: nvidia-cusolver-cu12==11.4.5.107 in ./.venv/lib/python3.10/site-packages (from torch<=2.4.0->dgl) (11.4.5.107)\n",
      "Requirement already satisfied: nvidia-nvtx-cu12==12.1.105 in ./.venv/lib/python3.10/site-packages (from torch<=2.4.0->dgl) (12.1.105)\n",
      "Requirement already satisfied: triton==3.0.0 in ./.venv/lib/python3.10/site-packages (from torch<=2.4.0->dgl) (3.0.0)\n",
      "Requirement already satisfied: nvidia-curand-cu12==10.3.2.106 in ./.venv/lib/python3.10/site-packages (from torch<=2.4.0->dgl) (10.3.2.106)\n",
      "Requirement already satisfied: filelock in ./.venv/lib/python3.10/site-packages (from torch<=2.4.0->dgl) (3.16.1)\n",
      "Requirement already satisfied: jinja2 in ./.venv/lib/python3.10/site-packages (from torch<=2.4.0->dgl) (3.1.4)\n",
      "Requirement already satisfied: nvidia-cudnn-cu12==9.1.0.70 in ./.venv/lib/python3.10/site-packages (from torch<=2.4.0->dgl) (9.1.0.70)\n",
      "Requirement already satisfied: nvidia-nccl-cu12==2.20.5 in ./.venv/lib/python3.10/site-packages (from torch<=2.4.0->dgl) (2.20.5)\n",
      "Requirement already satisfied: nvidia-cuda-cupti-cu12==12.1.105 in ./.venv/lib/python3.10/site-packages (from torch<=2.4.0->dgl) (12.1.105)\n",
      "Requirement already satisfied: nvidia-cuda-runtime-cu12==12.1.105 in ./.venv/lib/python3.10/site-packages (from torch<=2.4.0->dgl) (12.1.105)\n",
      "Requirement already satisfied: nvidia-cublas-cu12==12.1.3.1 in ./.venv/lib/python3.10/site-packages (from torch<=2.4.0->dgl) (12.1.3.1)\n",
      "Requirement already satisfied: sympy in ./.venv/lib/python3.10/site-packages (from torch<=2.4.0->dgl) (1.13.1)\n",
      "Requirement already satisfied: nvidia-nvjitlink-cu12 in ./.venv/lib/python3.10/site-packages (from nvidia-cusolver-cu12==11.4.5.107->torch<=2.4.0->dgl) (12.4.127)\n",
      "Requirement already satisfied: pytz>=2020.1 in ./.venv/lib/python3.10/site-packages (from pandas->dgl) (2024.2)\n",
      "Requirement already satisfied: python-dateutil>=2.8.2 in ./.venv/lib/python3.10/site-packages (from pandas->dgl) (2.9.0.post0)\n",
      "Requirement already satisfied: tzdata>=2022.7 in ./.venv/lib/python3.10/site-packages (from pandas->dgl) (2024.2)\n",
      "Requirement already satisfied: six>=1.5 in ./.venv/lib/python3.10/site-packages (from python-dateutil>=2.8.2->pandas->dgl) (1.16.0)\n",
      "Requirement already satisfied: MarkupSafe>=2.0 in ./.venv/lib/python3.10/site-packages (from jinja2->torch<=2.4.0->dgl) (3.0.2)\n",
      "Requirement already satisfied: mpmath<1.4,>=1.1.0 in ./.venv/lib/python3.10/site-packages (from sympy->torch<=2.4.0->dgl) (1.3.0)\n",
      "Installing collected packages: pydantic-core, annotated-types, pydantic, torch, dgl\n",
      "  Attempting uninstall: torch\n",
      "    Found existing installation: torch 2.4.1\n",
      "    Uninstalling torch-2.4.1:\n",
      "      Successfully uninstalled torch-2.4.1\n",
      "\u001b[31mERROR: pip's dependency resolver does not currently take into account all the packages that are installed. This behaviour is the source of the following dependency conflicts.\n",
      "torchvision 0.19.1 requires torch==2.4.1, but you have torch 2.4.0 which is incompatible.\n",
      "torchaudio 2.4.1 requires torch==2.4.1, but you have torch 2.4.0 which is incompatible.\n",
      "songdo-stgcn-wave 0.1.0 requires torch==2.4.1, but you have torch 2.4.0 which is incompatible.\u001b[0m\u001b[31m\n",
      "\u001b[0mSuccessfully installed annotated-types-0.7.0 dgl-2.4.0+cu121 pydantic-2.9.2 pydantic-core-2.23.4 torch-2.4.0\n",
      "Note: you may need to restart the kernel to use updated packages.\n"
     ]
    }
   ],
   "source": [
    "%pip install  dgl -f https://data.dgl.ai/wheels/torch-2.4/cu121/repo.html"
   ]
  },
  {
   "cell_type": "code",
   "execution_count": 6,
   "metadata": {},
   "outputs": [
    {
     "name": "stdout",
     "output_type": "stream",
     "text": [
      "3.10.12 (main, Sep 11 2024, 15:47:36) [GCC 11.4.0]\n",
      "Torch version:2.4.0+cu121\n",
      "cuda version: 12.1\n",
      "cudnn version:90100\n"
     ]
    }
   ],
   "source": [
    "import sys\n",
    "print(sys.version)\n",
    "     \n",
    "import torch\n",
    "\n",
    "print(\"Torch version:{}\".format(torch.__version__))\n",
    "print(\"cuda version: {}\".format(torch.version.cuda))\n",
    "print(\"cudnn version: {}\".format(torch.backends.cudnn.version()))"
   ]
  },
  {
   "cell_type": "code",
   "execution_count": 3,
   "metadata": {},
   "outputs": [
    {
     "data": {
      "text/plain": [
       "HyperParams(lr=0.001, disablecuda=False, batch_size=50, epochs=50, num_layers=9, window=144, dataset_name='METR-IMC', sensorsfilepath='../datasets/metr-imc/metr_ids.txt', disfilepath='../datasets/metr-imc/distances_imc_2023.csv', tsfilepath='../datasets/metr-imc/metr-imc.h5', savemodelpath='output/stgcnwavemodel.pt', pred_len=5, control_str='TNTSTNTST', channels=[1, 16, 32, 64, 32, 128], seed=42, adj_mx_filepath=None, missing_labels_filepath=None, train_ratio=0.7, valid_ratio=0.1, drop_rate=0.0, scheduler={'step_size': 5, 'gamma': 0.7})"
      ]
     },
     "execution_count": 3,
     "metadata": {},
     "output_type": "execute_result"
    }
   ],
   "source": [
    "from songdo_stgcn_trainer.utils import get_config\n",
    "hyperparams = get_config(\"../songdo_stgcn_wave/configs/imc-base.yaml\")\n",
    "hyperparams"
   ]
  },
  {
   "cell_type": "code",
   "execution_count": null,
   "metadata": {},
   "outputs": [],
   "source": [
    "hyperparams.dataset_name\n",
    "hyperparams.adj_mx_filepath = \"../output/metr-imc-selected\"\n",
    "hyperparams.missing_labels_filepath = \"../output/metr-imc-selected/metr-imc-missings.h5\""
   ]
  },
  {
   "cell_type": "code",
   "execution_count": null,
   "metadata": {},
   "outputs": [],
   "source": [
    "from songdo_stgcn_trainer.training import train"
   ]
  }
 ],
 "metadata": {
  "kernelspec": {
   "display_name": ".venv",
   "language": "python",
   "name": "python3"
  },
  "language_info": {
   "codemirror_mode": {
    "name": "ipython",
    "version": 3
   },
   "file_extension": ".py",
   "mimetype": "text/x-python",
   "name": "python",
   "nbconvert_exporter": "python",
   "pygments_lexer": "ipython3",
   "version": "3.10.12"
  }
 },
 "nbformat": 4,
 "nbformat_minor": 2
}
