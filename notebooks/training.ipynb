{
  "cells": [
    {
      "cell_type": "markdown",
      "metadata": {
        "id": "view-in-github",
        "colab_type": "text"
      },
      "source": [
        "<a href=\"https://colab.research.google.com/github/ysb06/songdo-traffic/blob/main/notebooks/training.ipynb\" target=\"_parent\"><img src=\"https://colab.research.google.com/assets/colab-badge.svg\" alt=\"Open In Colab\"/></a>"
      ]
    },
    {
      "cell_type": "code",
      "source": [
        "from google.colab import drive\n",
        "drive.mount('/content/drive')"
      ],
      "metadata": {
        "id": "3UfGmycwXtwp"
      },
      "execution_count": null,
      "outputs": []
    },
    {
      "cell_type": "code",
      "source": [
        "!git clone https://github.com/ysb06/songdo-traffic"
      ],
      "metadata": {
        "id": "-OAAEowXXpgA"
      },
      "execution_count": null,
      "outputs": []
    },
    {
      "cell_type": "code",
      "source": [
        "output_dir = \"/content/drive/MyDrive/Colab Notebooks/outputs\"\n",
        "data_root_dir = \"/content/drive/MyDrive/Colab Notebooks/data/metr-imc-selected/interpolated/time_mean_avg\"\n",
        "\n",
        "import os\n",
        "print(\"Output Directory Exist:\", os.path.exists(output_dir))\n",
        "print(\"Data Directory Exist:\", os.path.exists(data_root_dir))"
      ],
      "metadata": {
        "id": "sgPsmA40XxHp"
      },
      "execution_count": null,
      "outputs": []
    },
    {
      "cell_type": "code",
      "source": [
        "%pip install torch==2.4.0 torchvision==0.19.0 torchaudio==2.4.0 --index-url https://download.pytorch.org/whl/cu121"
      ],
      "metadata": {
        "id": "t6J7ZiX8pmU4"
      },
      "execution_count": null,
      "outputs": []
    },
    {
      "cell_type": "code",
      "execution_count": null,
      "metadata": {
        "id": "OoTmF6P9XjtH"
      },
      "outputs": [],
      "source": [
        "%pip install ./songdo-traffic/songdo_metr/"
      ]
    },
    {
      "cell_type": "code",
      "execution_count": null,
      "metadata": {
        "id": "_JqhqnITXjtI"
      },
      "outputs": [],
      "source": [
        "%pip install dgl==2.4.0 -f https://data.dgl.ai/wheels/torch-2.4/cu121/repo.html"
      ]
    },
    {
      "cell_type": "code",
      "execution_count": null,
      "metadata": {
        "id": "91uKBK5eXjtI"
      },
      "outputs": [],
      "source": [
        "%pip install ./songdo-traffic/songdo_stgcn_wave"
      ]
    },
    {
      "cell_type": "code",
      "source": [
        "%pip list"
      ],
      "metadata": {
        "id": "GUc-b9HfaJ1O"
      },
      "execution_count": null,
      "outputs": []
    },
    {
      "cell_type": "code",
      "execution_count": null,
      "metadata": {
        "id": "IiaU4Z63XjtI"
      },
      "outputs": [],
      "source": [
        "import sys\n",
        "import torch\n",
        "\n",
        "print(sys.version)\n",
        "\n",
        "print(\"Torch version: {}\".format(torch.__version__))\n",
        "print(\"cuda available: {}\".format(torch.cuda.is_available()))\n",
        "print(\"cuda version: {}\".format(torch.version.cuda))\n",
        "print(\"cudnn version: {}\".format(torch.backends.cudnn.version()))"
      ]
    },
    {
      "cell_type": "code",
      "source": [
        "import dgl\n",
        "\n",
        "dgl.__version__"
      ],
      "metadata": {
        "id": "QelBpgqicFCU"
      },
      "execution_count": null,
      "outputs": []
    },
    {
      "cell_type": "code",
      "execution_count": null,
      "metadata": {
        "id": "KfOsFJY1XjtJ"
      },
      "outputs": [],
      "source": [
        "from songdo_stgcn_trainer.utils import get_config\n",
        "\n",
        "hyperparams = get_config(\"/content/songdo-traffic/songdo_stgcn_wave/configs/imc-base.yaml\")\n",
        "hyperparams"
      ]
    },
    {
      "cell_type": "code",
      "execution_count": null,
      "metadata": {
        "id": "_dRsxSfjXjtJ"
      },
      "outputs": [],
      "source": [
        "data_root = \"/content/drive/MyDrive/Colab Notebooks/data/metr-imc-small/interpolated/time_mean_avg/metr-imc-01-absolute-simple\"\n",
        "\n",
        "hyperparams.sensorsfilepath = os.path.join(data_root, \"metr_ids.txt\")\n",
        "hyperparams.disfilepath = os.path.join(data_root, \"distances_imc_2024.csv\")\n",
        "hyperparams.tsfilepath = os.path.join(data_root, \"metr-imc.h5\")\n",
        "hyperparams.adj_mx_filepath = os.path.join(data_root, \"adj_mx.pkl\")\n",
        "hyperparams.missing_labels_filepath = os.path.join(data_root, \"metr-imc-missings.h5\")\n",
        "hyperparams.savemodelpath = \"/content/drive/MyDrive/Colab Notebooks/outputs\" + \"stgcn_wave_small_model.pt\"\n",
        "\n",
        "print(os.path.exists(hyperparams.sensorsfilepath))\n",
        "print(os.path.exists(hyperparams.disfilepath))\n",
        "print(os.path.exists(hyperparams.tsfilepath))\n",
        "print(os.path.exists(hyperparams.adj_mx_filepath))\n",
        "print(os.path.exists(hyperparams.missing_labels_filepath))"
      ]
    },
    {
      "cell_type": "code",
      "execution_count": null,
      "metadata": {
        "id": "sB745Oz2XjtJ"
      },
      "outputs": [],
      "source": [
        "from pprint import pprint\n",
        "\n",
        "pprint(hyperparams)"
      ]
    },
    {
      "cell_type": "code",
      "source": [
        "from songdo_stgcn_trainer.training import train\n",
        "\n",
        "train(hyperparams)"
      ],
      "metadata": {
        "id": "YBvPX2Z_rTvT",
        "collapsed": true
      },
      "execution_count": null,
      "outputs": []
    }
  ],
  "metadata": {
    "kernelspec": {
      "display_name": "Python 3",
      "name": "python3"
    },
    "language_info": {
      "codemirror_mode": {
        "name": "ipython",
        "version": 3
      },
      "file_extension": ".py",
      "mimetype": "text/x-python",
      "name": "python",
      "nbconvert_exporter": "python",
      "pygments_lexer": "ipython3",
      "version": "3.10.12"
    },
    "colab": {
      "provenance": [],
      "machine_shape": "hm",
      "gpuType": "A100",
      "include_colab_link": true
    },
    "accelerator": "GPU"
  },
  "nbformat": 4,
  "nbformat_minor": 0
}